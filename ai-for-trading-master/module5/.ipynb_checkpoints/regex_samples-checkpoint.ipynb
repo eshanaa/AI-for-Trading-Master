{
 "cells": [
  {
   "cell_type": "code",
   "execution_count": 1,
   "metadata": {},
   "outputs": [],
   "source": [
    "import re"
   ]
  },
  {
   "cell_type": "code",
   "execution_count": 13,
   "metadata": {},
   "outputs": [
    {
     "name": "stdout",
     "output_type": "stream",
     "text": [
      "<re.Match object; span=(1, 17), match='John David Smith'>\n",
      "<re.Match object; span=(18, 31), match='Alice Jackson'>\n",
      "<re.Match object; span=(32, 53), match='Mary Elizabeth Wilson'>\n",
      "<re.Match object; span=(54, 64), match='Mike Brown'>\n",
      "<re.Match object; span=(65, 68), match='Ken'>\n"
     ]
    }
   ],
   "source": [
    "# Import re module\n",
    "import re\n",
    "\n",
    "# Sample text\n",
    "sample_text = '''\n",
    "John David Smith\n",
    "Alice Jackson\n",
    "Mary Elizabeth Wilson\n",
    "Mike Brown\n",
    "Ken\n",
    "'''\n",
    "\n",
    "# Create a regular expression object with the regular expression '.'\n",
    "regex = re.compile(r'([a-zA-Z]+)[ ]?([a-zA-Z]+)?[ ]?([a-zA-z]+)?')\n",
    "\n",
    "# Search the sample_text for the regular expression\n",
    "matches = regex.finditer(sample_text)\n",
    "\n",
    "# Print all the matches\n",
    "for match in matches:\n",
    "    print(match)"
   ]
  },
  {
   "cell_type": "code",
   "execution_count": null,
   "metadata": {},
   "outputs": [],
   "source": []
  }
 ],
 "metadata": {
  "kernelspec": {
   "display_name": "Python 3",
   "language": "python",
   "name": "python3"
  },
  "language_info": {
   "codemirror_mode": {
    "name": "ipython",
    "version": 3
   },
   "file_extension": ".py",
   "mimetype": "text/x-python",
   "name": "python",
   "nbconvert_exporter": "python",
   "pygments_lexer": "ipython3",
   "version": "3.7.4"
  }
 },
 "nbformat": 4,
 "nbformat_minor": 2
}
