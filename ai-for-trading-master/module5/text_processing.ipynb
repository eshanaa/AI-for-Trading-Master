{
 "cells": [
  {
   "cell_type": "markdown",
   "metadata": {},
   "source": [
    "# Text Processing\n",
    "\n",
    "## Capturing Text Data\n",
    "\n",
    "### Plain Text"
   ]
  },
  {
   "cell_type": "code",
   "execution_count": 1,
   "metadata": {},
   "outputs": [
    {
     "name": "stdout",
     "output_type": "stream",
     "text": [
      "Hieroglyphic writing dates from c. 3000 BC, and is composed of hundreds of symbols. A hieroglyph can represent a word, a sound, or a silent determinative; and the same symbol can serve different purposes in different contexts. Hieroglyphs were a formal script, used on stone monuments and in tombs, that could be as detailed as individual works of art.\n",
      "\n"
     ]
    }
   ],
   "source": [
    "import os\n",
    "\n",
    "# Read in a plain text file\n",
    "with open(os.path.join(\"data\", \"hieroglyph.txt\"), \"r\") as f:\n",
    "    text = f.read()\n",
    "    print(text)"
   ]
  },
  {
   "cell_type": "markdown",
   "metadata": {},
   "source": [
    "### Tabular Data"
   ]
  },
  {
   "cell_type": "code",
   "execution_count": 2,
   "metadata": {
    "scrolled": true
   },
   "outputs": [
    {
     "data": {
      "text/html": [
       "<div>\n",
       "<style scoped>\n",
       "    .dataframe tbody tr th:only-of-type {\n",
       "        vertical-align: middle;\n",
       "    }\n",
       "\n",
       "    .dataframe tbody tr th {\n",
       "        vertical-align: top;\n",
       "    }\n",
       "\n",
       "    .dataframe thead th {\n",
       "        text-align: right;\n",
       "    }\n",
       "</style>\n",
       "<table border=\"1\" class=\"dataframe\">\n",
       "  <thead>\n",
       "    <tr style=\"text-align: right;\">\n",
       "      <th></th>\n",
       "      <th>publisher</th>\n",
       "      <th>title</th>\n",
       "    </tr>\n",
       "  </thead>\n",
       "  <tbody>\n",
       "    <tr>\n",
       "      <th>0</th>\n",
       "      <td>Livemint</td>\n",
       "      <td>fed's charles plosser sees high bar for change...</td>\n",
       "    </tr>\n",
       "    <tr>\n",
       "      <th>1</th>\n",
       "      <td>IFA Magazine</td>\n",
       "      <td>us open: stocks fall after fed official hints ...</td>\n",
       "    </tr>\n",
       "    <tr>\n",
       "      <th>2</th>\n",
       "      <td>IFA Magazine</td>\n",
       "      <td>fed risks falling 'behind the curve', charles ...</td>\n",
       "    </tr>\n",
       "    <tr>\n",
       "      <th>3</th>\n",
       "      <td>Moneynews</td>\n",
       "      <td>fed's plosser: nasty weather has curbed job gr...</td>\n",
       "    </tr>\n",
       "    <tr>\n",
       "      <th>4</th>\n",
       "      <td>NASDAQ</td>\n",
       "      <td>plosser: fed may have to accelerate tapering pace</td>\n",
       "    </tr>\n",
       "  </tbody>\n",
       "</table>\n",
       "</div>"
      ],
      "text/plain": [
       "      publisher                                              title\n",
       "0      Livemint  fed's charles plosser sees high bar for change...\n",
       "1  IFA Magazine  us open: stocks fall after fed official hints ...\n",
       "2  IFA Magazine  fed risks falling 'behind the curve', charles ...\n",
       "3     Moneynews  fed's plosser: nasty weather has curbed job gr...\n",
       "4        NASDAQ  plosser: fed may have to accelerate tapering pace"
      ]
     },
     "execution_count": 2,
     "metadata": {},
     "output_type": "execute_result"
    }
   ],
   "source": [
    "import pandas as pd\n",
    "\n",
    "# Extract text column from a dataframe\n",
    "df = pd.read_csv(os.path.join(\"data\", \"news.csv\"))\n",
    "df.head()[['publisher', 'title']]\n",
    "\n",
    "# Convert text column to lowercase\n",
    "df['title'] = df['title'].str.lower()\n",
    "df.head()[['publisher', 'title']]"
   ]
  },
  {
   "cell_type": "markdown",
   "metadata": {},
   "source": [
    "### Online Resource"
   ]
  },
  {
   "cell_type": "code",
   "execution_count": 3,
   "metadata": {
    "scrolled": true
   },
   "outputs": [
    {
     "name": "stdout",
     "output_type": "stream",
     "text": [
      "{\n",
      "    \"success\": {\n",
      "        \"total\": 1\n",
      "    },\n",
      "    \"contents\": {\n",
      "        \"quotes\": [\n",
      "            {\n",
      "                \"quote\": \"Some men see things as they are and say why ... I dream things that never were and say why not.\",\n",
      "                \"length\": \"95\",\n",
      "                \"author\": \"George Bernard Shaw\",\n",
      "                \"tags\": [\n",
      "                    \"inspire\",\n",
      "                    \"tod\"\n",
      "                ],\n",
      "                \"category\": \"inspire\",\n",
      "                \"date\": \"2019-11-14\",\n",
      "                \"permalink\": \"https://theysaidso.com/quote/george-bernard-shaw-some-men-see-things-as-they-are-and-say-why-i-dream-things-t\",\n",
      "                \"title\": \"Inspiring Quote of the day\",\n",
      "                \"background\": \"https://theysaidso.com/img/bgs/man_on_the_mountain.jpg\",\n",
      "                \"id\": \"CYwS9CTIVeHdhEZAR0yeOweF\"\n",
      "            }\n",
      "        ],\n",
      "        \"copyright\": \"2017-19 theysaidso.com\"\n",
      "    }\n",
      "}\n",
      "Some men see things as they are and say why ... I dream things that never were and say why not. \n",
      "-- George Bernard Shaw\n"
     ]
    }
   ],
   "source": [
    "import requests\n",
    "import json\n",
    "\n",
    "# Fetch data from a REST API\n",
    "r = requests.get(\n",
    "    \"https://quotes.rest/qod.json\")\n",
    "res = r.json()\n",
    "print(json.dumps(res, indent=4))\n",
    "\n",
    "# Extract relevant object and field\n",
    "q = res[\"contents\"][\"quotes\"][0]\n",
    "print(q[\"quote\"], \"\\n--\", q[\"author\"])"
   ]
  },
  {
   "cell_type": "markdown",
   "metadata": {},
   "source": [
    "## Cleaning"
   ]
  },
  {
   "cell_type": "code",
   "execution_count": 4,
   "metadata": {
    "scrolled": true
   },
   "outputs": [
    {
     "name": "stdout",
     "output_type": "stream",
     "text": [
      "<html op=\"news\"><head><meta name=\"referrer\" content=\"origin\"><meta name=\"viewport\" content=\"width=device-width, initial-scale=1.0\"><link rel=\"stylesheet\" type=\"text/css\" href=\"news.css?hMfejlZnJXBFfiQ08F15\">\n",
      "            <link rel=\"shortcut icon\" href=\"favicon.ico\">\n",
      "          <link rel=\"alternate\" type=\"application/rss+xml\" title=\"RSS\" href=\"rss\">\n",
      "        <title>Hacker News</title></head><body><center><table id=\"hnmain\" border=\"0\" cellpadding=\"0\" cellspacing=\"0\" width=\"85%\" bgcolor=\"#f6f6ef\">\n",
      "        <tr><td bgcolor=\"#ff6600\"><table border=\"0\" cellpadding=\"0\" cellspacing=\"0\" width=\"100%\" style=\"padding:2px\"><tr><td style=\"width:18px;padding-right:4px\"><a href=\"https://news.ycombinator.com\"><img src=\"y18.gif\" width=\"18\" height=\"18\" style=\"border:1px white solid;\"></a></td>\n",
      "                  <td style=\"line-height:12pt; height:10px;\"><span class=\"pagetop\"><b class=\"hnname\"><a href=\"news\">Hacker News</a></b>\n",
      "              <a href=\"newest\">new</a> | <a href=\"front\">past</a> | <a href=\"newcomments\">comments</a> | <a href=\"ask\">ask</a> | <a href=\"show\">show</a> | <a href=\"jobs\">jobs</a> | <a href=\"submit\">submit</a>            </span></td><td style=\"text-align:right;padding-right:4px;\"><span class=\"pagetop\">\n",
      "                              <a href=\"login?goto=news\">login</a>\n",
      "                          </span></td>\n",
      "              </tr></table></td></tr>\n",
      "<tr id=\"pagespace\" title=\"\" style=\"height:10px\"></tr><tr><td><table border=\"0\" cellpadding=\"0\" cellspacing=\"0\" class=\"itemlist\">\n",
      "              <tr class='athing' id='21530860'>\n",
      "      <td align=\"right\" valign=\"top\" class=\"title\"><span class=\"rank\">1.</span></td>      <td valign=\"top\" class=\"votelinks\"><center><a id='up_21530860' href='vote?id=21530860&amp;how=up&amp;goto=news'><div class='votearrow' title='upvote'></div></a></center></td><td class=\"title\"><a href=\"https://www.facebook.com/100006735798590/posts/2547632585471243/\" class=\"storylink\">John Carmack: I’m going to work on artificial general intelligence</a><span class=\"sitebit comhead\"> (<a href=\"from?site=facebook.com\"><span class=\"sitestr\">facebook.com</span></a>)</span></td></tr><tr><td colspan=\"2\"></td><td class=\"subtext\">\n",
      "        <span class=\"score\" id=\"score_21530860\">1092 points</span> by <a href=\"user?id=jbredeche\" class=\"hnuser\">jbredeche</a> <span class=\"age\"><a href=\"item?id=21530860\">11 hours ago</a></span> <span id=\"unv_21530860\"></span> | <a href=\"hide?id=21530860&amp;goto=news\">hide</a> | <a href=\"item?id=21530860\">588&nbsp;comments</a>              </td></tr>\n",
      "      <tr class=\"spacer\" style=\"height:5px\"></tr>\n",
      "                <tr class='athing' id='21533791'>\n",
      "      <td align=\"right\" valign=\"top\" class=\"title\"><span class=\"rank\">2.</span></td>      <td valign=\"top\" class=\"votelinks\"><center><a id='up_21533791' href='vote?id=21533791&amp;how=up&amp;goto=news'><div class='votearrow' title='upvote'></div></a></center></td><td class=\"title\"><a href=\"https://git.kernel.org/pub/scm/linux/kernel/git/torvalds/linux.git/commit/?id=c2955f270a84762343000f103e0640d29c7a96f3\" class=\"storylink\">Intel disables Hardware Lock Elision on all current CPUs</a><span class=\"sitebit comhead\"> (<a href=\"from?site=kernel.org\"><span class=\"sitestr\">kernel.org</span></a>)</span></td></tr><tr><td colspan=\"2\"></td><td class=\"subtext\">\n",
      "        <span class=\"score\" id=\"score_21533791\">62 points</span> by <a href=\"user?id=my123\" class=\"hnuser\">my123</a> <span class=\"age\"><a href=\"item?id=21533791\">2 hours ago</a></span> <span id=\"unv_21533791\"></span> | <a href=\"hide?id=21533791&amp;goto=news\">hide</a> | <a href=\"item?id=21533791\">17&nbsp;comments</a>              </td></tr>\n",
      "      <tr class=\"spacer\" style=\"height:5px\"></tr>\n",
      "                <tr class='athing' id='21533049'>\n",
      "      <td align=\"right\" valign=\"top\" class=\"title\"><span class=\"rank\">3.</span></td>      <td valign=\"top\" class=\"votelinks\"><center><a id='up_21533049' href='vote?id=21533049&amp;how=up&amp;goto=news'><div class='votearrow' title='upvote'></div></a></center></td><td class=\"title\"><a href=\"https://arstechnica.com/gadgets/2019/11/moto-razr-2019-is-official-a-foldable-smartphone-with-no-display-crease/\" class=\"storylink\">Moto Razr 2019: A foldable smartphone with no display crease</a><span class=\"sitebit comhead\"> (<a href=\"from?site=arstechnica.com\"><span class=\"sitestr\">arstechnica.com</span></a>)</span></td></tr><tr><td colspan=\"2\"></td><td class=\"subtext\">\n",
      "        <span class=\"score\" id=\"score_21533049\">144 points</span> by <a href=\"user?id=sohkamyung\" class=\"hnuser\">sohkamyung</a> <span class=\"age\"><a href=\"item?id=21533049\">5 hours ago</a></span> <span id=\"unv_21533049\"></span> | <a href=\"hide?id=21533049&amp;goto=news\">hide</a> | <a href=\"item?id=21533049\">80&nbsp;comments</a>              </td></tr>\n",
      "      <tr class=\"spacer\" style=\"height:5px\"></tr>\n",
      "                <tr class='athing' id='21532937'>\n",
      "      <td align=\"right\" valign=\"top\" class=\"title\"><span class=\"rank\">4.</span></td>      <td valign=\"top\" class=\"votelinks\"><center><a id='up_21532937' href='vote?id=21532937&amp;how=up&amp;goto=news'><div class='votearrow' title='upvote'></div></a></center></td><td class=\"title\"><a href=\"https://www.spiegel.de/international/zeitgeist/joy-milne-can-smell-parkinson-s-before-it-is-diagnosed-a-1295601.html\" class=\"storylink\">A Woman Who Can Smell Parkinson's</a><span class=\"sitebit comhead\"> (<a href=\"from?site=spiegel.de\"><span class=\"sitestr\">spiegel.de</span></a>)</span></td></tr><tr><td colspan=\"2\"></td><td class=\"subtext\">\n",
      "        <span class=\"score\" id=\"score_21532937\">96 points</span> by <a href=\"user?id=respinal\" class=\"hnuser\">respinal</a> <span class=\"age\"><a href=\"item?id=21532937\">5 hours ago</a></span> <span id=\"unv_21532937\"></span> | <a href=\"hide?id=21532937&amp;goto=news\">hide</a> | <a href=\"item?id=21532937\">21&nbsp;comments</a>              </td></tr>\n",
      "      <tr class=\"spacer\" style=\"height:5px\"></tr>\n",
      "                <tr class='athing' id='21533958'>\n",
      "      <td align=\"right\" valign=\"top\" class=\"title\"><span class=\"rank\">5.</span></td>      <td valign=\"top\" class=\"votelinks\"><center><a id='up_21533958' href='vote?id=21533958&amp;how=up&amp;goto=news'><div class='votearrow' title='upvote'></div></a></center></td><td class=\"title\"><a href=\"https://reiinakano.com/2019/11/12/solving-probability.html\" class=\"storylink\">Teaching a neural network to use a calculator</a><span class=\"sitebit comhead\"> (<a href=\"from?site=reiinakano.com\"><span class=\"sitestr\">reiinakano.com</span></a>)</span></td></tr><tr><td colspan=\"2\"></td><td class=\"subtext\">\n",
      "        <span class=\"score\" id=\"score_21533958\">17 points</span> by <a href=\"user?id=baylearn\" class=\"hnuser\">baylearn</a> <span class=\"age\"><a href=\"item?id=21533958\">1 hour ago</a></span> <span id=\"unv_21533958\"></span> | <a href=\"hide?id=21533958&amp;goto=news\">hide</a> | <a href=\"item?id=21533958\">discuss</a>              </td></tr>\n",
      "      <tr class=\"spacer\" style=\"height:5px\"></tr>\n",
      "                <tr class='athing' id='21532795'>\n",
      "      <td align=\"right\" valign=\"top\" class=\"title\"><span class=\"rank\">6.</span></td>      <td valign=\"top\" class=\"votelinks\"><center><a id='up_21532795' href='vote?id=21532795&amp;how=up&amp;goto=news'><div class='votearrow' title='upvote'></div></a></center></td><td class=\"title\"><a href=\"https://www.bigmessowires.com/2019/05/19/explaining-4k-60hz-video-through-usb-c-hub/\" class=\"storylink\">Explaining 4K 60Hz Video Through USB-C Hub</a><span class=\"sitebit comhead\"> (<a href=\"from?site=bigmessowires.com\"><span class=\"sitestr\">bigmessowires.com</span></a>)</span></td></tr><tr><td colspan=\"2\"></td><td class=\"subtext\">\n",
      "        <span class=\"score\" id=\"score_21532795\">112 points</span> by <a href=\"user?id=tambourine_man\" class=\"hnuser\">tambourine_man</a> <span class=\"age\"><a href=\"item?id=21532795\">6 hours ago</a></span> <span id=\"unv_21532795\"></span> | <a href=\"hide?id=21532795&amp;goto=news\">hide</a> | <a href=\"item?id=21532795\">53&nbsp;comments</a>              </td></tr>\n",
      "      <tr class=\"spacer\" style=\"height:5px\"></tr>\n",
      "                <tr class='athing' id='21533799'>\n",
      "      <td align=\"right\" valign=\"top\" class=\"title\"><span class=\"rank\">7.</span></td>      <td valign=\"top\" class=\"votelinks\"><center><a id='up_21533799' href='vote?id=21533799&amp;how=up&amp;goto=news'><div class='votearrow' title='upvote'></div></a></center></td><td class=\"title\"><a href=\"https://eng.uber.com/go-geofence/\" class=\"storylink\">How we built Uber Engineering's highest query-per-second service using Go (2016)</a><span class=\"sitebit comhead\"> (<a href=\"from?site=uber.com\"><span class=\"sitestr\">uber.com</span></a>)</span></td></tr><tr><td colspan=\"2\"></td><td class=\"subtext\">\n",
      "        <span class=\"score\" id=\"score_21533799\">21 points</span> by <a href=\"user?id=godelmachine\" class=\"hnuser\">godelmachine</a> <span class=\"age\"><a href=\"item?id=21533799\">2 hours ago</a></span> <span id=\"unv_21533799\"></span> | <a href=\"hide?id=21533799&amp;goto=news\">hide</a> | <a href=\"item?id=21533799\">8&nbsp;comments</a>              </td></tr>\n",
      "      <tr class=\"spacer\" style=\"height:5px\"></tr>\n",
      "                <tr class='athing' id='21533162'>\n",
      "      <td align=\"right\" valign=\"top\" class=\"title\"><span class=\"rank\">8.</span></td>      <td valign=\"top\" class=\"votelinks\"><center><a id='up_21533162' href='vote?id=21533162&amp;how=up&amp;goto=news'><div class='votearrow' title='upvote'></div></a></center></td><td class=\"title\"><a href=\"https://pocket.popcorncomputer.com\" class=\"storylink\">Pocket Popcorn Computer: Linux in Your Pocket</a><span class=\"sitebit comhead\"> (<a href=\"from?site=popcorncomputer.com\"><span class=\"sitestr\">popcorncomputer.com</span></a>)</span></td></tr><tr><td colspan=\"2\"></td><td class=\"subtext\">\n",
      "        <span class=\"score\" id=\"score_21533162\">140 points</span> by <a href=\"user?id=miles\" class=\"hnuser\">miles</a> <span class=\"age\"><a href=\"item?id=21533162\">4 hours ago</a></span> <span id=\"unv_21533162\"></span> | <a href=\"hide?id=21533162&amp;goto=news\">hide</a> | <a href=\"item?id=21533162\">61&nbsp;comments</a>              </td></tr>\n",
      "      <tr class=\"spacer\" style=\"height:5px\"></tr>\n",
      "                <tr class='athing' id='21533391'>\n",
      "      <td align=\"right\" valign=\"top\" class=\"title\"><span class=\"rank\">9.</span></td>      <td valign=\"top\" class=\"votelinks\"><center><a id='up_21533391' href='vote?id=21533391&amp;how=up&amp;goto=news'><div class='votearrow' title='upvote'></div></a></center></td><td class=\"title\"><a href=\"https://www.psychologytoday.com/us/articles/200703/trashing-teens\" class=\"storylink\">Trashing Teens (2007)</a><span class=\"sitebit comhead\"> (<a href=\"from?site=psychologytoday.com\"><span class=\"sitestr\">psychologytoday.com</span></a>)</span></td></tr><tr><td colspan=\"2\"></td><td class=\"subtext\">\n",
      "        <span class=\"score\" id=\"score_21533391\">26 points</span> by <a href=\"user?id=apsec112\" class=\"hnuser\">apsec112</a> <span class=\"age\"><a href=\"item?id=21533391\">3 hours ago</a></span> <span id=\"unv_21533391\"></span> | <a href=\"hide?id=21533391&amp;goto=news\">hide</a> | <a href=\"item?id=21533391\">40&nbsp;comments</a>              </td></tr>\n",
      "      <tr class=\"spacer\" style=\"height:5px\"></tr>\n",
      "                <tr class='athing' id='21530663'>\n",
      "      <td align=\"right\" valign=\"top\" class=\"title\"><span class=\"rank\">10.</span></td>      <td valign=\"top\" class=\"votelinks\"><center><a id='up_21530663' href='vote?id=21530663&amp;how=up&amp;goto=news'><div class='votearrow' title='upvote'></div></a></center></td><td class=\"title\"><a href=\"https://en.wikipedia.org/wiki/Microsoft_Comic_Chat\" class=\"storylink\">Microsoft Comic Chat</a><span class=\"sitebit comhead\"> (<a href=\"from?site=wikipedia.org\"><span class=\"sitestr\">wikipedia.org</span></a>)</span></td></tr><tr><td colspan=\"2\"></td><td class=\"subtext\">\n",
      "        <span class=\"score\" id=\"score_21530663\">127 points</span> by <a href=\"user?id=vector_spaces\" class=\"hnuser\">vector_spaces</a> <span class=\"age\"><a href=\"item?id=21530663\">11 hours ago</a></span> <span id=\"unv_21530663\"></span> | <a href=\"hide?id=21530663&amp;goto=news\">hide</a> | <a href=\"item?id=21530663\">32&nbsp;comments</a>              </td></tr>\n",
      "      <tr class=\"spacer\" style=\"height:5px\"></tr>\n",
      "                <tr class='athing' id='21523780'>\n",
      "      <td align=\"right\" valign=\"top\" class=\"title\"><span class=\"rank\">11.</span></td>      <td valign=\"top\" class=\"votelinks\"><center><a id='up_21523780' href='vote?id=21523780&amp;how=up&amp;goto=news'><div class='votearrow' title='upvote'></div></a></center></td><td class=\"title\"><a href=\"https://www.apple.com/newsroom/2019/11/apple-introduces-16-inch-macbook-pro-the-worlds-best-pro-notebook/\" class=\"storylink\">16-inch MacBook Pro</a><span class=\"sitebit comhead\"> (<a href=\"from?site=apple.com\"><span class=\"sitestr\">apple.com</span></a>)</span></td></tr><tr><td colspan=\"2\"></td><td class=\"subtext\">\n",
      "        <span class=\"score\" id=\"score_21523780\">1700 points</span> by <a href=\"user?id=rayascott\" class=\"hnuser\">rayascott</a> <span class=\"age\"><a href=\"item?id=21523780\">21 hours ago</a></span> <span id=\"unv_21523780\"></span> | <a href=\"hide?id=21523780&amp;goto=news\">hide</a> | <a href=\"item?id=21523780\">1528&nbsp;comments</a>              </td></tr>\n",
      "      <tr class=\"spacer\" style=\"height:5px\"></tr>\n",
      "                <tr class='athing' id='21530917'>\n",
      "      <td align=\"right\" valign=\"top\" class=\"title\"><span class=\"rank\">12.</span></td>      <td valign=\"top\" class=\"votelinks\"><center><a id='up_21530917' href='vote?id=21530917&amp;how=up&amp;goto=news'><div class='votearrow' title='upvote'></div></a></center></td><td class=\"title\"><a href=\"https://www.technologyreview.com/s/614704/how-to-turn-the-complex-mathematics-of-vector-calculus-into-simple-pictures/\" class=\"storylink\">Turning the mathematics of vector calculus into simple pictures</a><span class=\"sitebit comhead\"> (<a href=\"from?site=technologyreview.com\"><span class=\"sitestr\">technologyreview.com</span></a>)</span></td></tr><tr><td colspan=\"2\"></td><td class=\"subtext\">\n",
      "        <span class=\"score\" id=\"score_21530917\">56 points</span> by <a href=\"user?id=respinal\" class=\"hnuser\">respinal</a> <span class=\"age\"><a href=\"item?id=21530917\">7 hours ago</a></span> <span id=\"unv_21530917\"></span> | <a href=\"hide?id=21530917&amp;goto=news\">hide</a> | <a href=\"item?id=21530917\">10&nbsp;comments</a>              </td></tr>\n",
      "      <tr class=\"spacer\" style=\"height:5px\"></tr>\n",
      "                <tr class='athing' id='21525198'>\n",
      "      <td align=\"right\" valign=\"top\" class=\"title\"><span class=\"rank\">13.</span></td>      <td valign=\"top\" class=\"votelinks\"><center><a id='up_21525198' href='vote?id=21525198&amp;how=up&amp;goto=news'><div class='votearrow' title='upvote'></div></a></center></td><td class=\"title\"><a href=\"https://www.nature.com/articles/d41586-019-03459-7\" class=\"storylink\">Nature’s survey of 6k grad students reveals the turbulence of doctoral research</a><span class=\"sitebit comhead\"> (<a href=\"from?site=nature.com\"><span class=\"sitestr\">nature.com</span></a>)</span></td></tr><tr><td colspan=\"2\"></td><td class=\"subtext\">\n",
      "        <span class=\"score\" id=\"score_21525198\">63 points</span> by <a href=\"user?id=hhs\" class=\"hnuser\">hhs</a> <span class=\"age\"><a href=\"item?id=21525198\">9 hours ago</a></span> <span id=\"unv_21525198\"></span> | <a href=\"hide?id=21525198&amp;goto=news\">hide</a> | <a href=\"item?id=21525198\">16&nbsp;comments</a>              </td></tr>\n",
      "      <tr class=\"spacer\" style=\"height:5px\"></tr>\n",
      "                <tr class='athing' id='21534131'>\n",
      "      <td align=\"right\" valign=\"top\" class=\"title\"><span class=\"rank\">14.</span></td>      <td valign=\"top\" class=\"votelinks\"><center><a id='up_21534131' href='vote?id=21534131&amp;how=up&amp;goto=news'><div class='votearrow' title='upvote'></div></a></center></td><td class=\"title\"><a href=\"https://blog.hyperlog.club/why-peer-learn/\" class=\"storylink\" rel=\"nofollow\">Advantages of Peer Learning</a><span class=\"sitebit comhead\"> (<a href=\"from?site=hyperlog.club\"><span class=\"sitestr\">hyperlog.club</span></a>)</span></td></tr><tr><td colspan=\"2\"></td><td class=\"subtext\">\n",
      "        <span class=\"score\" id=\"score_21534131\">12 points</span> by <a href=\"user?id=ashleshbiradar\" class=\"hnuser\">ashleshbiradar</a> <span class=\"age\"><a href=\"item?id=21534131\">1 hour ago</a></span> <span id=\"unv_21534131\"></span> | <a href=\"hide?id=21534131&amp;goto=news\">hide</a> | <a href=\"item?id=21534131\">3&nbsp;comments</a>              </td></tr>\n",
      "      <tr class=\"spacer\" style=\"height:5px\"></tr>\n",
      "                <tr class='athing' id='21528210'>\n",
      "      <td align=\"right\" valign=\"top\" class=\"title\"><span class=\"rank\">15.</span></td>      <td valign=\"top\" class=\"votelinks\"><center><a id='up_21528210' href='vote?id=21528210&amp;how=up&amp;goto=news'><div class='votearrow' title='upvote'></div></a></center></td><td class=\"title\"><a href=\"https://www.nytimes.com/2019/11/13/world/europe/fat-cat-aeroflot.html\" class=\"storylink\">A man who got his overweight cat into the passenger cabin of a plane</a><span class=\"sitebit comhead\"> (<a href=\"from?site=nytimes.com\"><span class=\"sitestr\">nytimes.com</span></a>)</span></td></tr><tr><td colspan=\"2\"></td><td class=\"subtext\">\n",
      "        <span class=\"score\" id=\"score_21528210\">27 points</span> by <a href=\"user?id=lelf\" class=\"hnuser\">lelf</a> <span class=\"age\"><a href=\"item?id=21528210\">5 hours ago</a></span> <span id=\"unv_21528210\"></span> | <a href=\"hide?id=21528210&amp;goto=news\">hide</a> | <a href=\"item?id=21528210\">18&nbsp;comments</a>              </td></tr>\n",
      "      <tr class=\"spacer\" style=\"height:5px\"></tr>\n",
      "                <tr class='athing' id='21533746'>\n",
      "      <td align=\"right\" valign=\"top\" class=\"title\"><span class=\"rank\">16.</span></td>      <td valign=\"top\" class=\"votelinks\"><center><a id='up_21533746' href='vote?id=21533746&amp;how=up&amp;goto=news'><div class='votearrow' title='upvote'></div></a></center></td><td class=\"title\"><a href=\"https://www.bbc.com/news/in-pictures-50396337\" class=\"storylink\">The Rise of 'Facadism' in London</a><span class=\"sitebit comhead\"> (<a href=\"from?site=bbc.com\"><span class=\"sitestr\">bbc.com</span></a>)</span></td></tr><tr><td colspan=\"2\"></td><td class=\"subtext\">\n",
      "        <span class=\"score\" id=\"score_21533746\">49 points</span> by <a href=\"user?id=ZeljkoS\" class=\"hnuser\">ZeljkoS</a> <span class=\"age\"><a href=\"item?id=21533746\">2 hours ago</a></span> <span id=\"unv_21533746\"></span> | <a href=\"hide?id=21533746&amp;goto=news\">hide</a> | <a href=\"item?id=21533746\">42&nbsp;comments</a>              </td></tr>\n",
      "      <tr class=\"spacer\" style=\"height:5px\"></tr>\n",
      "                <tr class='athing' id='21504352'>\n",
      "      <td align=\"right\" valign=\"top\" class=\"title\"><span class=\"rank\">17.</span></td>      <td valign=\"top\" class=\"votelinks\"><center><a id='up_21504352' href='vote?id=21504352&amp;how=up&amp;goto=news'><div class='votearrow' title='upvote'></div></a></center></td><td class=\"title\"><a href=\"https://phys.org/news/2019-11-scientists-refine-quickly-universe.html\" class=\"storylink\">Scientists further refine how quickly the universe is expanding</a><span class=\"sitebit comhead\"> (<a href=\"from?site=phys.org\"><span class=\"sitestr\">phys.org</span></a>)</span></td></tr><tr><td colspan=\"2\"></td><td class=\"subtext\">\n",
      "        <span class=\"score\" id=\"score_21504352\">16 points</span> by <a href=\"user?id=dnetesn\" class=\"hnuser\">dnetesn</a> <span class=\"age\"><a href=\"item?id=21504352\">4 hours ago</a></span> <span id=\"unv_21504352\"></span> | <a href=\"hide?id=21504352&amp;goto=news\">hide</a> | <a href=\"item?id=21504352\">3&nbsp;comments</a>              </td></tr>\n",
      "      <tr class=\"spacer\" style=\"height:5px\"></tr>\n",
      "                <tr class='athing' id='21531162'>\n",
      "      <td align=\"right\" valign=\"top\" class=\"title\"><span class=\"rank\">18.</span></td>      <td valign=\"top\" class=\"votelinks\"><center><a id='up_21531162' href='vote?id=21531162&amp;how=up&amp;goto=news'><div class='votearrow' title='upvote'></div></a></center></td><td class=\"title\"><a href=\"https://github.com/vyapp/vy\" class=\"storylink\">Show HN: Vy – a powerful but retro and minimalist IDE</a><span class=\"sitebit comhead\"> (<a href=\"from?site=github.com\"><span class=\"sitestr\">github.com</span></a>)</span></td></tr><tr><td colspan=\"2\"></td><td class=\"subtext\">\n",
      "        <span class=\"score\" id=\"score_21531162\">108 points</span> by <a href=\"user?id=iogf\" class=\"hnuser\">iogf</a> <span class=\"age\"><a href=\"item?id=21531162\">10 hours ago</a></span> <span id=\"unv_21531162\"></span> | <a href=\"hide?id=21531162&amp;goto=news\">hide</a> | <a href=\"item?id=21531162\">21&nbsp;comments</a>              </td></tr>\n",
      "      <tr class=\"spacer\" style=\"height:5px\"></tr>\n",
      "                <tr class='athing' id='21525592'>\n",
      "      <td align=\"right\" valign=\"top\" class=\"title\"><span class=\"rank\">19.</span></td>      <td valign=\"top\" class=\"votelinks\"><center><a id='up_21525592' href='vote?id=21525592&amp;how=up&amp;goto=news'><div class='votearrow' title='upvote'></div></a></center></td><td class=\"title\"><a href=\"https://brave.com/brave-launches-next-generation-browser/\" class=\"storylink\">Brave launches 1.0</a><span class=\"sitebit comhead\"> (<a href=\"from?site=brave.com\"><span class=\"sitestr\">brave.com</span></a>)</span></td></tr><tr><td colspan=\"2\"></td><td class=\"subtext\">\n",
      "        <span class=\"score\" id=\"score_21525592\">892 points</span> by <a href=\"user?id=etr71115\" class=\"hnuser\">etr71115</a> <span class=\"age\"><a href=\"item?id=21525592\">18 hours ago</a></span> <span id=\"unv_21525592\"></span> | <a href=\"hide?id=21525592&amp;goto=news\">hide</a> | <a href=\"item?id=21525592\">577&nbsp;comments</a>              </td></tr>\n",
      "      <tr class=\"spacer\" style=\"height:5px\"></tr>\n",
      "                <tr class='athing' id='21533784'>\n",
      "      <td align=\"right\" valign=\"top\" class=\"title\"><span class=\"rank\">20.</span></td>      <td valign=\"top\" class=\"votelinks\"><center><a id='up_21533784' href='vote?id=21533784&amp;how=up&amp;goto=news'><div class='votearrow' title='upvote'></div></a></center></td><td class=\"title\"><a href=\"https://remotehub.io/remote-work-statistics\" class=\"storylink\">Show HN: Remote work statistics</a><span class=\"sitebit comhead\"> (<a href=\"from?site=remotehub.io\"><span class=\"sitestr\">remotehub.io</span></a>)</span></td></tr><tr><td colspan=\"2\"></td><td class=\"subtext\">\n",
      "        <span class=\"score\" id=\"score_21533784\">22 points</span> by <a href=\"user?id=raunometsa\" class=\"hnuser\">raunometsa</a> <span class=\"age\"><a href=\"item?id=21533784\">2 hours ago</a></span> <span id=\"unv_21533784\"></span> | <a href=\"hide?id=21533784&amp;goto=news\">hide</a> | <a href=\"item?id=21533784\">5&nbsp;comments</a>              </td></tr>\n",
      "      <tr class=\"spacer\" style=\"height:5px\"></tr>\n",
      "                <tr class='athing' id='21532957'>\n",
      "      <td align=\"right\" valign=\"top\" class=\"title\"><span class=\"rank\">21.</span></td>      <td valign=\"top\" class=\"votelinks\"><center><a id='up_21532957' href='vote?id=21532957&amp;how=up&amp;goto=news'><div class='votearrow' title='upvote'></div></a></center></td><td class=\"title\"><a href=\"http://www.scottkim.com.previewc40.carrierzone.com/viewpoint/index.html\" class=\"storylink\" rel=\"nofollow\">Viewpoint Toward a Computer for Visual Thinkers (1988)</a><span class=\"sitebit comhead\"> (<a href=\"from?site=carrierzone.com\"><span class=\"sitestr\">carrierzone.com</span></a>)</span></td></tr><tr><td colspan=\"2\"></td><td class=\"subtext\">\n",
      "        <span class=\"score\" id=\"score_21532957\">5 points</span> by <a href=\"user?id=Impossible\" class=\"hnuser\">Impossible</a> <span class=\"age\"><a href=\"item?id=21532957\">2 hours ago</a></span> <span id=\"unv_21532957\"></span> | <a href=\"hide?id=21532957&amp;goto=news\">hide</a> | <a href=\"item?id=21532957\">discuss</a>              </td></tr>\n",
      "      <tr class=\"spacer\" style=\"height:5px\"></tr>\n",
      "                <tr class='athing' id='21532800'>\n",
      "      <td align=\"right\" valign=\"top\" class=\"title\"><span class=\"rank\">22.</span></td>      <td valign=\"top\" class=\"votelinks\"><center><a id='up_21532800' href='vote?id=21532800&amp;how=up&amp;goto=news'><div class='votearrow' title='upvote'></div></a></center></td><td class=\"title\"><a href=\"https://www.lrb.co.uk/v41/n22/barbara-newman/kek-kek-kokkow-quek-quek\" class=\"storylink\" rel=\"nofollow\">On Chaucer: ‘Kek kek kokkow quek quek’</a><span class=\"sitebit comhead\"> (<a href=\"from?site=lrb.co.uk\"><span class=\"sitestr\">lrb.co.uk</span></a>)</span></td></tr><tr><td colspan=\"2\"></td><td class=\"subtext\">\n",
      "        <span class=\"score\" id=\"score_21532800\">3 points</span> by <a href=\"user?id=tintinnabula\" class=\"hnuser\">tintinnabula</a> <span class=\"age\"><a href=\"item?id=21532800\">1 hour ago</a></span> <span id=\"unv_21532800\"></span> | <a href=\"hide?id=21532800&amp;goto=news\">hide</a> | <a href=\"item?id=21532800\">3&nbsp;comments</a>              </td></tr>\n",
      "      <tr class=\"spacer\" style=\"height:5px\"></tr>\n",
      "                <tr class='athing' id='21532821'>\n",
      "      <td align=\"right\" valign=\"top\" class=\"title\"><span class=\"rank\">23.</span></td>      <td valign=\"top\" class=\"votelinks\"><center><a id='up_21532821' href='vote?id=21532821&amp;how=up&amp;goto=news'><div class='votearrow' title='upvote'></div></a></center></td><td class=\"title\"><a href=\"https://www.bloomberg.com/news/articles/2014-05-08/three-mysterious-philanthropists-fund-fourth-largest-u-dot-s-dot-charity\" class=\"storylink\">Three Mysterious Philanthropists Fund Fourth-Largest U.S. Charity (2014)</a><span class=\"sitebit comhead\"> (<a href=\"from?site=bloomberg.com\"><span class=\"sitestr\">bloomberg.com</span></a>)</span></td></tr><tr><td colspan=\"2\"></td><td class=\"subtext\">\n",
      "        <span class=\"score\" id=\"score_21532821\">25 points</span> by <a href=\"user?id=deepnotderp\" class=\"hnuser\">deepnotderp</a> <span class=\"age\"><a href=\"item?id=21532821\">6 hours ago</a></span> <span id=\"unv_21532821\"></span> | <a href=\"hide?id=21532821&amp;goto=news\">hide</a> | <a href=\"item?id=21532821\">11&nbsp;comments</a>              </td></tr>\n",
      "      <tr class=\"spacer\" style=\"height:5px\"></tr>\n",
      "                <tr class='athing' id='21530668'>\n",
      "      <td align=\"right\" valign=\"top\" class=\"title\"><span class=\"rank\">24.</span></td>      <td valign=\"top\" class=\"votelinks\"><center><a id='up_21530668' href='vote?id=21530668&amp;how=up&amp;goto=news'><div class='votearrow' title='upvote'></div></a></center></td><td class=\"title\"><a href=\"https://www.matthewball.vc/all/marginalaffinity\" class=\"storylink\">Disney, IP, and “Returns to Marginal Affinity”</a><span class=\"sitebit comhead\"> (<a href=\"from?site=matthewball.vc\"><span class=\"sitestr\">matthewball.vc</span></a>)</span></td></tr><tr><td colspan=\"2\"></td><td class=\"subtext\">\n",
      "        <span class=\"score\" id=\"score_21530668\">47 points</span> by <a href=\"user?id=jger15\" class=\"hnuser\">jger15</a> <span class=\"age\"><a href=\"item?id=21530668\">7 hours ago</a></span> <span id=\"unv_21530668\"></span> | <a href=\"hide?id=21530668&amp;goto=news\">hide</a> | <a href=\"item?id=21530668\">25&nbsp;comments</a>              </td></tr>\n",
      "      <tr class=\"spacer\" style=\"height:5px\"></tr>\n",
      "                <tr class='athing' id='21531507'>\n",
      "      <td align=\"right\" valign=\"top\" class=\"title\"><span class=\"rank\">25.</span></td>      <td valign=\"top\" class=\"votelinks\"><center><a id='up_21531507' href='vote?id=21531507&amp;how=up&amp;goto=news'><div class='votearrow' title='upvote'></div></a></center></td><td class=\"title\"><a href=\"https://www.tristar500.net/library/flight1080.pdf\" class=\"storylink\">Flight 1080 (1978) [pdf]</a><span class=\"sitebit comhead\"> (<a href=\"from?site=tristar500.net\"><span class=\"sitestr\">tristar500.net</span></a>)</span></td></tr><tr><td colspan=\"2\"></td><td class=\"subtext\">\n",
      "        <span class=\"score\" id=\"score_21531507\">21 points</span> by <a href=\"user?id=ColinWright\" class=\"hnuser\">ColinWright</a> <span class=\"age\"><a href=\"item?id=21531507\">4 hours ago</a></span> <span id=\"unv_21531507\"></span> | <a href=\"hide?id=21531507&amp;goto=news\">hide</a> | <a href=\"item?id=21531507\">7&nbsp;comments</a>              </td></tr>\n",
      "      <tr class=\"spacer\" style=\"height:5px\"></tr>\n",
      "                <tr class='athing' id='21529548'>\n",
      "      <td align=\"right\" valign=\"top\" class=\"title\"><span class=\"rank\">26.</span></td>      <td valign=\"top\" class=\"votelinks\"><center><a id='up_21529548' href='vote?id=21529548&amp;how=up&amp;goto=news'><div class='votearrow' title='upvote'></div></a></center></td><td class=\"title\"><a href=\"https://aws.amazon.com/blogs/aws/aws-data-exchange-find-subscribe-to-and-use-data-products/\" class=\"storylink\">AWS Data Exchange</a><span class=\"sitebit comhead\"> (<a href=\"from?site=amazon.com\"><span class=\"sitestr\">amazon.com</span></a>)</span></td></tr><tr><td colspan=\"2\"></td><td class=\"subtext\">\n",
      "        <span class=\"score\" id=\"score_21529548\">154 points</span> by <a href=\"user?id=jeffbarr\" class=\"hnuser\">jeffbarr</a> <span class=\"age\"><a href=\"item?id=21529548\">13 hours ago</a></span> <span id=\"unv_21529548\"></span> | <a href=\"hide?id=21529548&amp;goto=news\">hide</a> | <a href=\"item?id=21529548\">47&nbsp;comments</a>              </td></tr>\n",
      "      <tr class=\"spacer\" style=\"height:5px\"></tr>\n",
      "                <tr class='athing' id='21525878'>\n",
      "      <td align=\"right\" valign=\"top\" class=\"title\"><span class=\"rank\">27.</span></td>      <td valign=\"top\" class=\"votelinks\"><center><a id='up_21525878' href='vote?id=21525878&amp;how=up&amp;goto=news'><div class='votearrow' title='upvote'></div></a></center></td><td class=\"title\"><a href=\"https://google.github.io/tacotron/publications/speaker_adaptation/\" class=\"storylink\">AI Clones Your Voice After Listening for 5 Seconds (2018)</a><span class=\"sitebit comhead\"> (<a href=\"from?site=google.github.io\"><span class=\"sitestr\">google.github.io</span></a>)</span></td></tr><tr><td colspan=\"2\"></td><td class=\"subtext\">\n",
      "        <span class=\"score\" id=\"score_21525878\">780 points</span> by <a href=\"user?id=lukeplato\" class=\"hnuser\">lukeplato</a> <span class=\"age\"><a href=\"item?id=21525878\">18 hours ago</a></span> <span id=\"unv_21525878\"></span> | <a href=\"hide?id=21525878&amp;goto=news\">hide</a> | <a href=\"item?id=21525878\">284&nbsp;comments</a>              </td></tr>\n",
      "      <tr class=\"spacer\" style=\"height:5px\"></tr>\n",
      "                <tr class='athing' id='21533921'>\n",
      "      <td align=\"right\" valign=\"top\" class=\"title\"><span class=\"rank\">28.</span></td>      <td valign=\"top\" class=\"votelinks\"><center><a id='up_21533921' href='vote?id=21533921&amp;how=up&amp;goto=news'><div class='votearrow' title='upvote'></div></a></center></td><td class=\"title\"><a href=\"https://bamboolib.com/demo\" class=\"storylink\" rel=\"nofollow\">Show HN: Bamboolib – A GUI for Pandas (Python Data Science)</a><span class=\"sitebit comhead\"> (<a href=\"from?site=bamboolib.com\"><span class=\"sitestr\">bamboolib.com</span></a>)</span></td></tr><tr><td colspan=\"2\"></td><td class=\"subtext\">\n",
      "        <span class=\"score\" id=\"score_21533921\">9 points</span> by <a href=\"user?id=__tobals__\" class=\"hnuser\">__tobals__</a> <span class=\"age\"><a href=\"item?id=21533921\">1 hour ago</a></span> <span id=\"unv_21533921\"></span> | <a href=\"hide?id=21533921&amp;goto=news\">hide</a> | <a href=\"item?id=21533921\">2&nbsp;comments</a>              </td></tr>\n",
      "      <tr class=\"spacer\" style=\"height:5px\"></tr>\n",
      "                <tr class='athing' id='21528425'>\n",
      "      <td align=\"right\" valign=\"top\" class=\"title\"><span class=\"rank\">29.</span></td>      <td valign=\"top\" class=\"votelinks\"><center><a id='up_21528425' href='vote?id=21528425&amp;how=up&amp;goto=news'><div class='votearrow' title='upvote'></div></a></center></td><td class=\"title\"><a href=\"https://www.quantamagazine.org/neutrinos-lead-to-unexpected-discovery-in-basic-math-20191113/\" class=\"storylink\">Neutrinos lead to unexpected discovery about eigenvectors and eigenvalues</a><span class=\"sitebit comhead\"> (<a href=\"from?site=quantamagazine.org\"><span class=\"sitestr\">quantamagazine.org</span></a>)</span></td></tr><tr><td colspan=\"2\"></td><td class=\"subtext\">\n",
      "        <span class=\"score\" id=\"score_21528425\">347 points</span> by <a href=\"user?id=furcyd\" class=\"hnuser\">furcyd</a> <span class=\"age\"><a href=\"item?id=21528425\">15 hours ago</a></span> <span id=\"unv_21528425\"></span> | <a href=\"hide?id=21528425&amp;goto=news\">hide</a> | <a href=\"item?id=21528425\">63&nbsp;comments</a>              </td></tr>\n",
      "      <tr class=\"spacer\" style=\"height:5px\"></tr>\n",
      "                <tr class='athing' id='21528854'>\n",
      "      <td align=\"right\" valign=\"top\" class=\"title\"><span class=\"rank\">30.</span></td>      <td valign=\"top\" class=\"votelinks\"><center><a id='up_21528854' href='vote?id=21528854&amp;how=up&amp;goto=news'><div class='votearrow' title='upvote'></div></a></center></td><td class=\"title\"><a href=\"https://www.cjr.org/cjr_outbox/google-doc-journalism-media-pay.php\" class=\"storylink\">What people get paid to work in journalism</a><span class=\"sitebit comhead\"> (<a href=\"from?site=cjr.org\"><span class=\"sitestr\">cjr.org</span></a>)</span></td></tr><tr><td colspan=\"2\"></td><td class=\"subtext\">\n",
      "        <span class=\"score\" id=\"score_21528854\">119 points</span> by <a href=\"user?id=laurex\" class=\"hnuser\">laurex</a> <span class=\"age\"><a href=\"item?id=21528854\">14 hours ago</a></span> <span id=\"unv_21528854\"></span> | <a href=\"hide?id=21528854&amp;goto=news\">hide</a> | <a href=\"item?id=21528854\">186&nbsp;comments</a>              </td></tr>\n",
      "      <tr class=\"spacer\" style=\"height:5px\"></tr>\n",
      "            <tr class=\"morespace\" style=\"height:10px\"></tr><tr><td colspan=\"2\"></td><td class=\"title\"><a href=\"news?p=2\" class=\"morelink\" rel=\"next\">More</a></td></tr>\n",
      "  </table>\n",
      "</td></tr>\n",
      "<tr><td><img src=\"s.gif\" height=\"10\" width=\"0\"><table width=\"100%\" cellspacing=\"0\" cellpadding=\"1\"><tr><td bgcolor=\"#ff6600\"></td></tr></table><br><center><span class=\"yclinks\"><a href=\"newsguidelines.html\">Guidelines</a>\n",
      "        | <a href=\"newsfaq.html\">FAQ</a>\n",
      "        | <a href=\"mailto:hn@ycombinator.com\">Support</a>\n",
      "        | <a href=\"https://github.com/HackerNews/API\">API</a>\n",
      "        | <a href=\"security.html\">Security</a>\n",
      "        | <a href=\"lists\">Lists</a>\n",
      "        | <a href=\"bookmarklet.html\" rel=\"nofollow\">Bookmarklet</a>\n",
      "        | <a href=\"http://www.ycombinator.com/legal/\">Legal</a>\n",
      "        | <a href=\"http://www.ycombinator.com/apply/\">Apply to YC</a>\n",
      "        | <a href=\"mailto:hn@ycombinator.com\">Contact</a></span><br><br><form method=\"get\" action=\"//hn.algolia.com/\">Search:\n",
      "          <input type=\"text\" name=\"q\" value=\"\" size=\"17\" autocorrect=\"off\" spellcheck=\"false\" autocapitalize=\"off\" autocomplete=\"false\"></form>\n",
      "            </center></td></tr>\n",
      "      </table></center></body><script type='text/javascript' src='hn.js?hMfejlZnJXBFfiQ08F15'></script>\n",
      "  </html>\n",
      "\n"
     ]
    }
   ],
   "source": [
    "import requests\n",
    "\n",
    "# Fetch a web page\n",
    "r = requests.get(\"https://news.ycombinator.com\")\n",
    "print(r.text)"
   ]
  },
  {
   "cell_type": "code",
   "execution_count": 5,
   "metadata": {},
   "outputs": [
    {
     "name": "stdout",
     "output_type": "stream",
     "text": [
      "\n",
      "            \n",
      "          \n",
      "        Hacker News\n",
      "        \n",
      "                  Hacker News\n",
      "              new | past | comments | ask | show | jobs | submit            \n",
      "                              login\n",
      "                          \n",
      "              \n",
      "\n",
      "              \n",
      "      1.      John Carmack: I’m going to work on artificial general intelligence (facebook.com)\n",
      "        1092 points by jbredeche 11 hours ago  | hide | 588&nbsp;comments              \n",
      "      \n",
      "                \n",
      "      2.      Intel disables Hardware Lock Elision on all current CPUs (kernel.org)\n",
      "        62 points by my123 2 hours ago  | hide | 17&nbsp;comments              \n",
      "      \n",
      "                \n",
      "      3.      Moto Razr 2019: A foldable smartphone with no display crease (arstechnica.com)\n",
      "        144 points by sohkamyung 5 hours ago  | hide | 80&nbsp;comments              \n",
      "      \n",
      "                \n",
      "      4.      A Woman Who Can Smell Parkinson's (spiegel.de)\n",
      "        96 points by respinal 5 hours ago  | hide | 21&nbsp;comments              \n",
      "      \n",
      "                \n",
      "      5.      Teaching a neural network to use a calculator (reiinakano.com)\n",
      "        17 points by baylearn 1 hour ago  | hide | discuss              \n",
      "      \n",
      "                \n",
      "      6.      Explaining 4K 60Hz Video Through USB-C Hub (bigmessowires.com)\n",
      "        112 points by tambourine_man 6 hours ago  | hide | 53&nbsp;comments              \n",
      "      \n",
      "                \n",
      "      7.      How we built Uber Engineering's highest query-per-second service using Go (2016) (uber.com)\n",
      "        21 points by godelmachine 2 hours ago  | hide | 8&nbsp;comments              \n",
      "      \n",
      "                \n",
      "      8.      Pocket Popcorn Computer: Linux in Your Pocket (popcorncomputer.com)\n",
      "        140 points by miles 4 hours ago  | hide | 61&nbsp;comments              \n",
      "      \n",
      "                \n",
      "      9.      Trashing Teens (2007) (psychologytoday.com)\n",
      "        26 points by apsec112 3 hours ago  | hide | 40&nbsp;comments              \n",
      "      \n",
      "                \n",
      "      10.      Microsoft Comic Chat (wikipedia.org)\n",
      "        127 points by vector_spaces 11 hours ago  | hide | 32&nbsp;comments              \n",
      "      \n",
      "                \n",
      "      11.      16-inch MacBook Pro (apple.com)\n",
      "        1700 points by rayascott 21 hours ago  | hide | 1528&nbsp;comments              \n",
      "      \n",
      "                \n",
      "      12.      Turning the mathematics of vector calculus into simple pictures (technologyreview.com)\n",
      "        56 points by respinal 7 hours ago  | hide | 10&nbsp;comments              \n",
      "      \n",
      "                \n",
      "      13.      Nature’s survey of 6k grad students reveals the turbulence of doctoral research (nature.com)\n",
      "        63 points by hhs 9 hours ago  | hide | 16&nbsp;comments              \n",
      "      \n",
      "                \n",
      "      14.      Advantages of Peer Learning (hyperlog.club)\n",
      "        12 points by ashleshbiradar 1 hour ago  | hide | 3&nbsp;comments              \n",
      "      \n",
      "                \n",
      "      15.      A man who got his overweight cat into the passenger cabin of a plane (nytimes.com)\n",
      "        27 points by lelf 5 hours ago  | hide | 18&nbsp;comments              \n",
      "      \n",
      "                \n",
      "      16.      The Rise of 'Facadism' in London (bbc.com)\n",
      "        49 points by ZeljkoS 2 hours ago  | hide | 42&nbsp;comments              \n",
      "      \n",
      "                \n",
      "      17.      Scientists further refine how quickly the universe is expanding (phys.org)\n",
      "        16 points by dnetesn 4 hours ago  | hide | 3&nbsp;comments              \n",
      "      \n",
      "                \n",
      "      18.      Show HN: Vy – a powerful but retro and minimalist IDE (github.com)\n",
      "        108 points by iogf 10 hours ago  | hide | 21&nbsp;comments              \n",
      "      \n",
      "                \n",
      "      19.      Brave launches 1.0 (brave.com)\n",
      "        892 points by etr71115 18 hours ago  | hide | 577&nbsp;comments              \n",
      "      \n",
      "                \n",
      "      20.      Show HN: Remote work statistics (remotehub.io)\n",
      "        22 points by raunometsa 2 hours ago  | hide | 5&nbsp;comments              \n",
      "      \n",
      "                \n",
      "      21.      Viewpoint Toward a Computer for Visual Thinkers (1988) (carrierzone.com)\n",
      "        5 points by Impossible 2 hours ago  | hide | discuss              \n",
      "      \n",
      "                \n",
      "      22.      On Chaucer: ‘Kek kek kokkow quek quek’ (lrb.co.uk)\n",
      "        3 points by tintinnabula 1 hour ago  | hide | 3&nbsp;comments              \n",
      "      \n",
      "                \n",
      "      23.      Three Mysterious Philanthropists Fund Fourth-Largest U.S. Charity (2014) (bloomberg.com)\n",
      "        25 points by deepnotderp 6 hours ago  | hide | 11&nbsp;comments              \n",
      "      \n",
      "                \n",
      "      24.      Disney, IP, and “Returns to Marginal Affinity” (matthewball.vc)\n",
      "        47 points by jger15 7 hours ago  | hide | 25&nbsp;comments              \n",
      "      \n",
      "                \n",
      "      25.      Flight 1080 (1978) [pdf] (tristar500.net)\n",
      "        21 points by ColinWright 4 hours ago  | hide | 7&nbsp;comments              \n",
      "      \n",
      "                \n",
      "      26.      AWS Data Exchange (amazon.com)\n",
      "        154 points by jeffbarr 13 hours ago  | hide | 47&nbsp;comments              \n",
      "      \n",
      "                \n",
      "      27.      AI Clones Your Voice After Listening for 5 Seconds (2018) (google.github.io)\n",
      "        780 points by lukeplato 18 hours ago  | hide | 284&nbsp;comments              \n",
      "      \n",
      "                \n",
      "      28.      Show HN: Bamboolib – A GUI for Pandas (Python Data Science) (bamboolib.com)\n",
      "        9 points by __tobals__ 1 hour ago  | hide | 2&nbsp;comments              \n",
      "      \n",
      "                \n",
      "      29.      Neutrinos lead to unexpected discovery about eigenvectors and eigenvalues (quantamagazine.org)\n",
      "        347 points by furcyd 15 hours ago  | hide | 63&nbsp;comments              \n",
      "      \n",
      "                \n",
      "      30.      What people get paid to work in journalism (cjr.org)\n",
      "        119 points by laurex 14 hours ago  | hide | 186&nbsp;comments              \n",
      "      \n",
      "            More\n",
      "  \n",
      "\n",
      "Guidelines\n",
      "        | FAQ\n",
      "        | Support\n",
      "        | API\n",
      "        | Security\n",
      "        | Lists\n",
      "        | Bookmarklet\n",
      "        | Legal\n",
      "        | Apply to YC\n",
      "        | ContactSearch:\n",
      "          \n",
      "            \n",
      "      \n",
      "  \n",
      "\n"
     ]
    }
   ],
   "source": [
    "import re\n",
    "\n",
    "# Remove HTML tags using RegEx\n",
    "pattern = re.compile(r'<.*?>')  # tags look like <...>\n",
    "print(pattern.sub('', r.text))  # replace them with blank"
   ]
  },
  {
   "cell_type": "code",
   "execution_count": 6,
   "metadata": {},
   "outputs": [
    {
     "name": "stdout",
     "output_type": "stream",
     "text": [
      "\n",
      "            \n",
      "          \n",
      "        Hacker News\n",
      "        \n",
      "                  Hacker News\n",
      "              new | past | comments | ask | show | jobs | submit            \n",
      "                              login\n",
      "                          \n",
      "              \n",
      "\n",
      "              \n",
      "      1.      John Carmack: I’m going to work on artificial general intelligence (facebook.com)\n",
      "        1092 points by jbredeche 11 hours ago  | hide | 588 comments              \n",
      "      \n",
      "                \n",
      "      2.      Intel disables Hardware Lock Elision on all current CPUs (kernel.org)\n",
      "        62 points by my123 2 hours ago  | hide | 17 comments              \n",
      "      \n",
      "                \n",
      "      3.      Moto Razr 2019: A foldable smartphone with no display crease (arstechnica.com)\n",
      "        144 points by sohkamyung 5 hours ago  | hide | 80 comments              \n",
      "      \n",
      "                \n",
      "      4.      A Woman Who Can Smell Parkinson's (spiegel.de)\n",
      "        96 points by respinal 5 hours ago  | hide | 21 comments              \n",
      "      \n",
      "                \n",
      "      5.      Teaching a neural network to use a calculator (reiinakano.com)\n",
      "        17 points by baylearn 1 hour ago  | hide | discuss              \n",
      "      \n",
      "                \n",
      "      6.      Explaining 4K 60Hz Video Through USB-C Hub (bigmessowires.com)\n",
      "        112 points by tambourine_man 6 hours ago  | hide | 53 comments              \n",
      "      \n",
      "                \n",
      "      7.      How we built Uber Engineering's highest query-per-second service using Go (2016) (uber.com)\n",
      "        21 points by godelmachine 2 hours ago  | hide | 8 comments              \n",
      "      \n",
      "                \n",
      "      8.      Pocket Popcorn Computer: Linux in Your Pocket (popcorncomputer.com)\n",
      "        140 points by miles 4 hours ago  | hide | 61 comments              \n",
      "      \n",
      "                \n",
      "      9.      Trashing Teens (2007) (psychologytoday.com)\n",
      "        26 points by apsec112 3 hours ago  | hide | 40 comments              \n",
      "      \n",
      "                \n",
      "      10.      Microsoft Comic Chat (wikipedia.org)\n",
      "        127 points by vector_spaces 11 hours ago  | hide | 32 comments              \n",
      "      \n",
      "                \n",
      "      11.      16-inch MacBook Pro (apple.com)\n",
      "        1700 points by rayascott 21 hours ago  | hide | 1528 comments              \n",
      "      \n",
      "                \n",
      "      12.      Turning the mathematics of vector calculus into simple pictures (technologyreview.com)\n",
      "        56 points by respinal 7 hours ago  | hide | 10 comments              \n",
      "      \n",
      "                \n",
      "      13.      Nature’s survey of 6k grad students reveals the turbulence of doctoral research (nature.com)\n",
      "        63 points by hhs 9 hours ago  | hide | 16 comments              \n",
      "      \n",
      "                \n",
      "      14.      Advantages of Peer Learning (hyperlog.club)\n",
      "        12 points by ashleshbiradar 1 hour ago  | hide | 3 comments              \n",
      "      \n",
      "                \n",
      "      15.      A man who got his overweight cat into the passenger cabin of a plane (nytimes.com)\n",
      "        27 points by lelf 5 hours ago  | hide | 18 comments              \n",
      "      \n",
      "                \n",
      "      16.      The Rise of 'Facadism' in London (bbc.com)\n",
      "        49 points by ZeljkoS 2 hours ago  | hide | 42 comments              \n",
      "      \n",
      "                \n",
      "      17.      Scientists further refine how quickly the universe is expanding (phys.org)\n",
      "        16 points by dnetesn 4 hours ago  | hide | 3 comments              \n",
      "      \n",
      "                \n",
      "      18.      Show HN: Vy – a powerful but retro and minimalist IDE (github.com)\n",
      "        108 points by iogf 10 hours ago  | hide | 21 comments              \n",
      "      \n",
      "                \n",
      "      19.      Brave launches 1.0 (brave.com)\n",
      "        892 points by etr71115 18 hours ago  | hide | 577 comments              \n",
      "      \n",
      "                \n",
      "      20.      Show HN: Remote work statistics (remotehub.io)\n",
      "        22 points by raunometsa 2 hours ago  | hide | 5 comments              \n",
      "      \n",
      "                \n",
      "      21.      Viewpoint Toward a Computer for Visual Thinkers (1988) (carrierzone.com)\n",
      "        5 points by Impossible 2 hours ago  | hide | discuss              \n",
      "      \n",
      "                \n",
      "      22.      On Chaucer: ‘Kek kek kokkow quek quek’ (lrb.co.uk)\n",
      "        3 points by tintinnabula 1 hour ago  | hide | 3 comments              \n",
      "      \n",
      "                \n",
      "      23.      Three Mysterious Philanthropists Fund Fourth-Largest U.S. Charity (2014) (bloomberg.com)\n",
      "        25 points by deepnotderp 6 hours ago  | hide | 11 comments              \n",
      "      \n",
      "                \n",
      "      24.      Disney, IP, and “Returns to Marginal Affinity” (matthewball.vc)\n",
      "        47 points by jger15 7 hours ago  | hide | 25 comments              \n",
      "      \n",
      "                \n",
      "      25.      Flight 1080 (1978) [pdf] (tristar500.net)\n",
      "        21 points by ColinWright 4 hours ago  | hide | 7 comments              \n",
      "      \n",
      "                \n",
      "      26.      AWS Data Exchange (amazon.com)\n",
      "        154 points by jeffbarr 13 hours ago  | hide | 47 comments              \n",
      "      \n",
      "                \n",
      "      27.      AI Clones Your Voice After Listening for 5 Seconds (2018) (google.github.io)\n",
      "        780 points by lukeplato 18 hours ago  | hide | 284 comments              \n",
      "      \n",
      "                \n",
      "      28.      Show HN: Bamboolib – A GUI for Pandas (Python Data Science) (bamboolib.com)\n",
      "        9 points by __tobals__ 1 hour ago  | hide | 2 comments              \n",
      "      \n",
      "                \n",
      "      29.      Neutrinos lead to unexpected discovery about eigenvectors and eigenvalues (quantamagazine.org)\n",
      "        347 points by furcyd 15 hours ago  | hide | 63 comments              \n",
      "      \n",
      "                \n",
      "      30.      What people get paid to work in journalism (cjr.org)\n",
      "        119 points by laurex 14 hours ago  | hide | 186 comments              \n",
      "      \n",
      "            More\n",
      "  \n",
      "\n",
      "Guidelines\n",
      "        | FAQ\n",
      "        | Support\n",
      "        | API\n",
      "        | Security\n",
      "        | Lists\n",
      "        | Bookmarklet\n",
      "        | Legal\n",
      "        | Apply to YC\n",
      "        | ContactSearch:\n",
      "          \n",
      "            \n",
      "      \n",
      "  \n",
      "\n"
     ]
    }
   ],
   "source": [
    "from bs4 import BeautifulSoup\n",
    "\n",
    "# Remove HTML tags using Beautiful Soup library\n",
    "soup = BeautifulSoup(r.text, \"html5lib\")\n",
    "print(soup.get_text())"
   ]
  },
  {
   "cell_type": "code",
   "execution_count": 7,
   "metadata": {
    "scrolled": true
   },
   "outputs": [
    {
     "data": {
      "text/plain": [
       "<tr class=\"athing\" id=\"21530860\">\n",
       "      <td align=\"right\" class=\"title\" valign=\"top\"><span class=\"rank\">1.</span></td>      <td class=\"votelinks\" valign=\"top\"><center><a href=\"vote?id=21530860&amp;how=up&amp;goto=news\" id=\"up_21530860\"><div class=\"votearrow\" title=\"upvote\"></div></a></center></td><td class=\"title\"><a class=\"storylink\" href=\"https://www.facebook.com/100006735798590/posts/2547632585471243/\">John Carmack: I’m going to work on artificial general intelligence</a><span class=\"sitebit comhead\"> (<a href=\"from?site=facebook.com\"><span class=\"sitestr\">facebook.com</span></a>)</span></td></tr>"
      ]
     },
     "execution_count": 7,
     "metadata": {},
     "output_type": "execute_result"
    }
   ],
   "source": [
    "# Find all articles\n",
    "summaries = soup.find_all(\"tr\", class_=\"athing\")\n",
    "summaries[0]"
   ]
  },
  {
   "cell_type": "code",
   "execution_count": 8,
   "metadata": {},
   "outputs": [
    {
     "data": {
      "text/plain": [
       "'John Carmack: I’m going to work on artificial general intelligence'"
      ]
     },
     "execution_count": 8,
     "metadata": {},
     "output_type": "execute_result"
    }
   ],
   "source": [
    "# Extract title\n",
    "summaries[0].find(\"a\", class_=\"storylink\").get_text().strip()"
   ]
  },
  {
   "cell_type": "code",
   "execution_count": 9,
   "metadata": {},
   "outputs": [
    {
     "name": "stdout",
     "output_type": "stream",
     "text": [
      "30 Article summaries found. Sample:\n",
      "John Carmack: I’m going to work on artificial general intelligence\n"
     ]
    }
   ],
   "source": [
    "# Find all articles, extract titles\n",
    "articles = []\n",
    "summaries = soup.find_all(\"tr\", class_=\"athing\")\n",
    "for summary in summaries:\n",
    "    title = summary.find(\"a\", class_=\"storylink\").get_text().strip()\n",
    "    articles.append((title))\n",
    "\n",
    "print(len(articles), \"Article summaries found. Sample:\")\n",
    "print(articles[0])"
   ]
  },
  {
   "cell_type": "markdown",
   "metadata": {
    "collapsed": true
   },
   "source": [
    "## Normalization"
   ]
  },
  {
   "cell_type": "markdown",
   "metadata": {},
   "source": [
    "### Case Normalization"
   ]
  },
  {
   "cell_type": "code",
   "execution_count": 10,
   "metadata": {},
   "outputs": [
    {
     "name": "stdout",
     "output_type": "stream",
     "text": [
      "The first time you see The Second Renaissance it may look boring. Look at it at least twice and definitely watch part 2. It will change your view of the matrix. Are the human people the ones who started the war ? Is AI a bad thing ?\n"
     ]
    }
   ],
   "source": [
    "# Sample text\n",
    "text = \"The first time you see The Second Renaissance it may look boring. Look at it at least twice and definitely watch part 2. It will change your view of the matrix. Are the human people the ones who started the war ? Is AI a bad thing ?\"\n",
    "print(text)"
   ]
  },
  {
   "cell_type": "code",
   "execution_count": 11,
   "metadata": {},
   "outputs": [
    {
     "name": "stdout",
     "output_type": "stream",
     "text": [
      "the first time you see the second renaissance it may look boring. look at it at least twice and definitely watch part 2. it will change your view of the matrix. are the human people the ones who started the war ? is ai a bad thing ?\n"
     ]
    }
   ],
   "source": [
    "# Convert to lowercase\n",
    "text = text.lower() \n",
    "print(text)"
   ]
  },
  {
   "cell_type": "markdown",
   "metadata": {},
   "source": [
    "### Punctuation Removal"
   ]
  },
  {
   "cell_type": "code",
   "execution_count": 12,
   "metadata": {},
   "outputs": [
    {
     "name": "stdout",
     "output_type": "stream",
     "text": [
      "the first time you see the second renaissance it may look boring  look at it at least twice and definitely watch part 2  it will change your view of the matrix  are the human people the ones who started the war   is ai a bad thing  \n"
     ]
    }
   ],
   "source": [
    "import re\n",
    "\n",
    "# Remove punctuation characters\n",
    "text = re.sub(r\"[^a-zA-Z0-9]\", \" \", text) \n",
    "print(text)"
   ]
  },
  {
   "cell_type": "markdown",
   "metadata": {},
   "source": [
    "## Tokenization"
   ]
  },
  {
   "cell_type": "code",
   "execution_count": 13,
   "metadata": {},
   "outputs": [
    {
     "name": "stdout",
     "output_type": "stream",
     "text": [
      "['the', 'first', 'time', 'you', 'see', 'the', 'second', 'renaissance', 'it', 'may', 'look', 'boring', 'look', 'at', 'it', 'at', 'least', 'twice', 'and', 'definitely', 'watch', 'part', '2', 'it', 'will', 'change', 'your', 'view', 'of', 'the', 'matrix', 'are', 'the', 'human', 'people', 'the', 'ones', 'who', 'started', 'the', 'war', 'is', 'ai', 'a', 'bad', 'thing']\n"
     ]
    }
   ],
   "source": [
    "# Split text into tokens (words)\n",
    "words = text.split()\n",
    "print(words)"
   ]
  },
  {
   "cell_type": "markdown",
   "metadata": {},
   "source": [
    "### NLTK: Natural Language ToolKit"
   ]
  },
  {
   "cell_type": "code",
   "execution_count": 14,
   "metadata": {},
   "outputs": [],
   "source": [
    "import os\n",
    "import nltk\n",
    "nltk.data.path.append(os.path.join(os.getcwd(), \"nltk_data\"))"
   ]
  },
  {
   "cell_type": "code",
   "execution_count": 15,
   "metadata": {},
   "outputs": [
    {
     "name": "stdout",
     "output_type": "stream",
     "text": [
      "Dr. Smith graduated from the University of Washington. He later started an analytics firm called Lux, which catered to enterprise customers.\n"
     ]
    }
   ],
   "source": [
    "# Another sample text\n",
    "text = \"Dr. Smith graduated from the University of Washington. He later started an analytics firm called Lux, which catered to enterprise customers.\"\n",
    "print(text)"
   ]
  },
  {
   "cell_type": "code",
   "execution_count": 16,
   "metadata": {},
   "outputs": [
    {
     "name": "stdout",
     "output_type": "stream",
     "text": [
      "['Dr.', 'Smith', 'graduated', 'from', 'the', 'University', 'of', 'Washington', '.', 'He', 'later', 'started', 'an', 'analytics', 'firm', 'called', 'Lux', ',', 'which', 'catered', 'to', 'enterprise', 'customers', '.']\n"
     ]
    }
   ],
   "source": [
    "from nltk.tokenize import word_tokenize\n",
    "\n",
    "# Split text into words using NLTK\n",
    "words = word_tokenize(text)\n",
    "print(words)"
   ]
  },
  {
   "cell_type": "code",
   "execution_count": 17,
   "metadata": {},
   "outputs": [
    {
     "name": "stdout",
     "output_type": "stream",
     "text": [
      "['Dr. Smith graduated from the University of Washington.', 'He later started an analytics firm called Lux, which catered to enterprise customers.']\n"
     ]
    }
   ],
   "source": [
    "from nltk.tokenize import sent_tokenize\n",
    "\n",
    "# Split text into sentences\n",
    "sentences = sent_tokenize(text)\n",
    "print(sentences)"
   ]
  },
  {
   "cell_type": "code",
   "execution_count": 18,
   "metadata": {},
   "outputs": [
    {
     "name": "stdout",
     "output_type": "stream",
     "text": [
      "['i', 'me', 'my', 'myself', 'we', 'our', 'ours', 'ourselves', 'you', \"you're\", \"you've\", \"you'll\", \"you'd\", 'your', 'yours', 'yourself', 'yourselves', 'he', 'him', 'his', 'himself', 'she', \"she's\", 'her', 'hers', 'herself', 'it', \"it's\", 'its', 'itself', 'they', 'them', 'their', 'theirs', 'themselves', 'what', 'which', 'who', 'whom', 'this', 'that', \"that'll\", 'these', 'those', 'am', 'is', 'are', 'was', 'were', 'be', 'been', 'being', 'have', 'has', 'had', 'having', 'do', 'does', 'did', 'doing', 'a', 'an', 'the', 'and', 'but', 'if', 'or', 'because', 'as', 'until', 'while', 'of', 'at', 'by', 'for', 'with', 'about', 'against', 'between', 'into', 'through', 'during', 'before', 'after', 'above', 'below', 'to', 'from', 'up', 'down', 'in', 'out', 'on', 'off', 'over', 'under', 'again', 'further', 'then', 'once', 'here', 'there', 'when', 'where', 'why', 'how', 'all', 'any', 'both', 'each', 'few', 'more', 'most', 'other', 'some', 'such', 'no', 'nor', 'not', 'only', 'own', 'same', 'so', 'than', 'too', 'very', 's', 't', 'can', 'will', 'just', 'don', \"don't\", 'should', \"should've\", 'now', 'd', 'll', 'm', 'o', 're', 've', 'y', 'ain', 'aren', \"aren't\", 'couldn', \"couldn't\", 'didn', \"didn't\", 'doesn', \"doesn't\", 'hadn', \"hadn't\", 'hasn', \"hasn't\", 'haven', \"haven't\", 'isn', \"isn't\", 'ma', 'mightn', \"mightn't\", 'mustn', \"mustn't\", 'needn', \"needn't\", 'shan', \"shan't\", 'shouldn', \"shouldn't\", 'wasn', \"wasn't\", 'weren', \"weren't\", 'won', \"won't\", 'wouldn', \"wouldn't\"]\n"
     ]
    }
   ],
   "source": [
    "# List stop words\n",
    "from nltk.corpus import stopwords\n",
    "print(stopwords.words(\"english\"))"
   ]
  },
  {
   "cell_type": "code",
   "execution_count": 19,
   "metadata": {},
   "outputs": [
    {
     "name": "stdout",
     "output_type": "stream",
     "text": [
      "['the', 'first', 'time', 'you', 'see', 'the', 'second', 'renaissance', 'it', 'may', 'look', 'boring', 'look', 'at', 'it', 'at', 'least', 'twice', 'and', 'definitely', 'watch', 'part', '2', 'it', 'will', 'change', 'your', 'view', 'of', 'the', 'matrix', 'are', 'the', 'human', 'people', 'the', 'ones', 'who', 'started', 'the', 'war', 'is', 'ai', 'a', 'bad', 'thing']\n"
     ]
    }
   ],
   "source": [
    "# Reset text\n",
    "text = \"The first time you see The Second Renaissance it may look boring. Look at it at least twice and definitely watch part 2. It will change your view of the matrix. Are the human people the ones who started the war ? Is AI a bad thing ?\"\n",
    "\n",
    "# Normalize it\n",
    "text = re.sub(r\"[^a-zA-Z0-9]\", \" \", text.lower())\n",
    "\n",
    "# Tokenize it\n",
    "words = text.split()\n",
    "print(words)"
   ]
  },
  {
   "cell_type": "code",
   "execution_count": 20,
   "metadata": {},
   "outputs": [
    {
     "name": "stdout",
     "output_type": "stream",
     "text": [
      "['first', 'time', 'see', 'second', 'renaissance', 'may', 'look', 'boring', 'look', 'least', 'twice', 'definitely', 'watch', 'part', '2', 'change', 'view', 'matrix', 'human', 'people', 'ones', 'started', 'war', 'ai', 'bad', 'thing']\n"
     ]
    }
   ],
   "source": [
    "# Remove stop words\n",
    "words = [w for w in words if w not in stopwords.words(\"english\")]\n",
    "print(words)"
   ]
  },
  {
   "cell_type": "markdown",
   "metadata": {},
   "source": [
    "### Sentence Parsing"
   ]
  },
  {
   "cell_type": "code",
   "execution_count": 21,
   "metadata": {},
   "outputs": [
    {
     "name": "stdout",
     "output_type": "stream",
     "text": [
      "(S\n",
      "  (NP I)\n",
      "  (VP\n",
      "    (VP (V shot) (NP (Det an) (N elephant)))\n",
      "    (PP (P in) (NP (Det my) (N pajamas)))))\n",
      "(S\n",
      "  (NP I)\n",
      "  (VP\n",
      "    (V shot)\n",
      "    (NP (Det an) (N elephant) (PP (P in) (NP (Det my) (N pajamas))))))\n"
     ]
    }
   ],
   "source": [
    "import nltk\n",
    "\n",
    "# Define a custom grammar\n",
    "my_grammar = nltk.CFG.fromstring(\"\"\"\n",
    "S -> NP VP\n",
    "PP -> P NP\n",
    "NP -> Det N | Det N PP | 'I'\n",
    "VP -> V NP | VP PP\n",
    "Det -> 'an' | 'my'\n",
    "N -> 'elephant' | 'pajamas'\n",
    "V -> 'shot'\n",
    "P -> 'in'\n",
    "\"\"\")\n",
    "parser = nltk.ChartParser(my_grammar)\n",
    "\n",
    "# Parse a sentence\n",
    "sentence = word_tokenize(\"I shot an elephant in my pajamas\")\n",
    "for tree in parser.parse(sentence):\n",
    "    print(tree)"
   ]
  },
  {
   "cell_type": "markdown",
   "metadata": {},
   "source": [
    "## Stemming & Lemmatization\n",
    "\n",
    "### Stemming"
   ]
  },
  {
   "cell_type": "code",
   "execution_count": 22,
   "metadata": {},
   "outputs": [
    {
     "name": "stdout",
     "output_type": "stream",
     "text": [
      "['first', 'time', 'see', 'second', 'renaiss', 'may', 'look', 'bore', 'look', 'least', 'twice', 'definit', 'watch', 'part', '2', 'chang', 'view', 'matrix', 'human', 'peopl', 'one', 'start', 'war', 'ai', 'bad', 'thing']\n"
     ]
    }
   ],
   "source": [
    "from nltk.stem.porter import PorterStemmer\n",
    "\n",
    "# Reduce words to their stems\n",
    "stemmed = [PorterStemmer().stem(w) for w in words]\n",
    "print(stemmed)"
   ]
  },
  {
   "cell_type": "markdown",
   "metadata": {},
   "source": [
    "### Lemmatization"
   ]
  },
  {
   "cell_type": "code",
   "execution_count": 23,
   "metadata": {},
   "outputs": [
    {
     "name": "stdout",
     "output_type": "stream",
     "text": [
      "['first', 'time', 'see', 'second', 'renaissance', 'may', 'look', 'boring', 'look', 'least', 'twice', 'definitely', 'watch', 'part', '2', 'change', 'view', 'matrix', 'human', 'people', 'one', 'started', 'war', 'ai', 'bad', 'thing']\n"
     ]
    }
   ],
   "source": [
    "from nltk.stem.wordnet import WordNetLemmatizer\n",
    "\n",
    "# Reduce words to their root form\n",
    "lemmed = [WordNetLemmatizer().lemmatize(w) for w in words]\n",
    "print(lemmed)"
   ]
  },
  {
   "cell_type": "code",
   "execution_count": 24,
   "metadata": {},
   "outputs": [
    {
     "name": "stdout",
     "output_type": "stream",
     "text": [
      "['first', 'time', 'see', 'second', 'renaissance', 'may', 'look', 'bore', 'look', 'least', 'twice', 'definitely', 'watch', 'part', '2', 'change', 'view', 'matrix', 'human', 'people', 'one', 'start', 'war', 'ai', 'bad', 'thing']\n"
     ]
    }
   ],
   "source": [
    "# Lemmatize verbs by specifying pos\n",
    "lemmed = [WordNetLemmatizer().lemmatize(w, pos='v') for w in lemmed]\n",
    "print(lemmed)"
   ]
  },
  {
   "cell_type": "code",
   "execution_count": null,
   "metadata": {},
   "outputs": [],
   "source": []
  }
 ],
 "metadata": {
  "kernelspec": {
   "display_name": "Python 3",
   "language": "python",
   "name": "python3"
  },
  "language_info": {
   "codemirror_mode": {
    "name": "ipython",
    "version": 3
   },
   "file_extension": ".py",
   "mimetype": "text/x-python",
   "name": "python",
   "nbconvert_exporter": "python",
   "pygments_lexer": "ipython3",
   "version": "3.6.3"
  }
 },
 "nbformat": 4,
 "nbformat_minor": 2
}
